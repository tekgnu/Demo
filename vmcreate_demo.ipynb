{
 "cells": [
  {
   "cell_type": "code",
   "execution_count": 2,
   "metadata": {},
   "outputs": [],
   "source": [
    "# Account login IDs (not credentials) imported from a variables file\n",
    "\n",
    ". ./AZ_Sub_Details_1.ps1\n",
    "\n",
    "$tenantID = $TENANTID_DEF\n",
    "$subscriptionID = $SUBSCRIPTIONID_DEF\n",
    "$location=\"EastUS2\"\n",
    "\n",
    "## Network information\n",
    "$vNetName=\"prd-vnte2dem001\"\n",
    "$vNetAddPref=\"192.168.0.0/16\"\n",
    "$sbt1Name=\"iaassbt\"\n",
    "$sbt1AddPref=\"192.168.1.0/24\"\n",
    "\n",
    "#if NEEDED \n",
    "#$VMLocalAdminUser = \"\"\n",
    "#$VMLocalAdminSecurePassword = ConvertTo-SecureString  -AsPlainText -Force\n",
    "$resourceGroupName=\"rg-prdsecdemo001\"\n",
    "$newVMName=\"cpt-prde2dem001\"\n",
    "$VMSize = \"Standard_B2s\"\n",
    "$newVMPubName = \"Canonical\"\n",
    "$newVMOffer = \"UbuntuServer\"\n",
    "$newVMSku = \"18.04-LTS\"\n",
    "$NICName = $newVMName+\"nic1\"\n",
    "\n",
    "$vmDiskSize = 5\n",
    "$vmDiskSkuName = \"Standard_LRS\"\n",
    "$vmDiskNm = \"OSDisk1\""
   ]
  },
  {
   "cell_type": "code",
   "execution_count": 3,
   "metadata": {},
   "outputs": [
    {
     "name": "stdout",
     "output_type": "stream",
     "text": [
      "\n",
      "Account               SubscriptionName         TenantId                             Environment\n",
      "-------               ----------------         --------                             -----------\n",
      "matperr@microsoft.com Visual Studio Enterprise cc914548-7923-4586-ad62-f99cebba3dac AzureCloud\n",
      "\n"
     ]
    }
   ],
   "source": [
    "## Connect to Azure\n",
    "Connect-AzAccount -Tenant $tenantID -SubscriptionId $subscriptionID"
   ]
  },
  {
   "cell_type": "code",
   "execution_count": null,
   "metadata": {},
   "outputs": [],
   "source": [
    "## If Resource Group Exists do not create, else create\n",
    "New-AzResourceGroup -Name $resourceGroupName -Location $location"
   ]
  },
  {
   "cell_type": "code",
   "execution_count": null,
   "metadata": {},
   "outputs": [],
   "source": [
    "## Create Network resources\n",
    "## Source: https://docs.microsoft.com/en-us/powershell/module/az.network/new-azvirtualnetwork?view=azps-5.4.0\n",
    "$sbt1  = New-AzVirtualNetworkSubnetConfig -Name $sbt1Name  -AddressPrefix $sbt1AddPref\n",
    "$vNet = New-AzVirtualNetwork -Name $vNetName -ResourceGroupName $resourceGroupName -Location $location -AddressPrefix $vNetAddPref -Subnet $sbt1"
   ]
  },
  {
   "cell_type": "code",
   "execution_count": null,
   "metadata": {},
   "outputs": [],
   "source": [
    "## Create VM - note this configuration is demo dependant like building a LINUX OS\n",
    "## Source: https://docs.microsoft.com/en-us/powershell/module/az.compute/new-azvm?view=azps-5.4.0\n",
    "\n",
    "$Credential = Get-Credential\n",
    "## $Credential = New-Object System.Management.Automation.PSCredential ($VMLocalAdminUser, $VMLocalAdminSecurePassword);\n",
    "\n",
    "$NIC = New-AzNetworkInterface -Name $NICName -ResourceGroupName $ResourceGroupName -Location $Location -SubnetId $vNet.Subnets[0].id\n",
    "\n",
    "$VirtualMachine = New-AzVMConfig -VMName $newVMName -VMSize $VMSize\n",
    "#$VirtualMachine = Set-AzVMOperatingSystem -VM $VirtualMachine -Windows -ComputerName $newVMName -Credential $Credential -ProvisionVMAgent -EnableAutoUpdate\n",
    "$VirtualMachine = Set-AzVMOperatingSystem -VM $VirtualMachine -Linux -ComputerName $newVMName -Credential $Credential\n",
    "$VirtualMachine = Add-AzVMNetworkInterface -VM $VirtualMachine -Id $NIC.Id\n",
    "$VirtualMachine = Set-AzVMSourceImage -VM $VirtualMachine -PublisherName $newVMPubName -Offer $newVMOffer -Skus $newVMSku -Version latest\n",
    "##$VirtualMachine = Set-AzVMOSDisk -VM $VirtualMachine -Name $vmDiskNm -Linux -CreateOption \"Attach\"\n",
    "\n",
    "New-AzVM -ResourceGroupName $ResourceGroupName -Location $Location -VM $VirtualMachine -Verbose\n",
    "\n"
   ]
  },
  {
   "cell_type": "code",
   "execution_count": null,
   "metadata": {},
   "outputs": [],
   "source": []
  }
 ],
 "metadata": {
  "kernelspec": {
   "display_name": ".NET (PowerShell)",
   "language": "PowerShell",
   "name": ".net-powershell"
  },
  "language_info": {
   "file_extension": ".ps1",
   "mimetype": "text/x-powershell",
   "name": "PowerShell",
   "pygments_lexer": "powershell",
   "version": "7.0"
  }
 },
 "nbformat": 4,
 "nbformat_minor": 4
}
