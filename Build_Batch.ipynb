{
 "cells": [
  {
   "cell_type": "code",
   "execution_count": 1,
   "metadata": {},
   "outputs": [
    {
     "data": {
      "text/html": [
       "\r\n",
       "<div>\r\n",
       "    <div id='dotnet-interactive-this-cell-27372.4d2b8e1eb9874e03b5e3ba93de076ce7' style='display: none'>\r\n",
       "        The below script needs to be able to find the current output cell; this is an easy method to get it.\r\n",
       "    </div>\r\n",
       "    <script type='text/javascript'>\r\n",
       "// ensure `require` is available globally\r\n",
       "if (typeof require !== typeof Function || typeof require.config !== typeof Function) {\r\n",
       "    let require_script = document.createElement('script');\r\n",
       "    require_script.setAttribute('src', 'https://cdnjs.cloudflare.com/ajax/libs/require.js/2.3.6/require.min.js');\r\n",
       "    require_script.setAttribute('type', 'text/javascript');\r\n",
       "    require_script.onload = function () {\r\n",
       "        loadDotnetInteractiveApi();\r\n",
       "    };\r\n",
       "\r\n",
       "    document.getElementsByTagName('head')[0].appendChild(require_script);\r\n",
       "}\r\n",
       "else {\r\n",
       "    loadDotnetInteractiveApi();\r\n",
       "}\r\n",
       "\r\n",
       "async function probeAddresses(probingAddresses) {\r\n",
       "    function timeout(ms, promise) {\r\n",
       "        return new Promise(function (resolve, reject) {\r\n",
       "            setTimeout(function () {\r\n",
       "                reject(new Error('timeout'))\r\n",
       "            }, ms)\r\n",
       "            promise.then(resolve, reject)\r\n",
       "        })\r\n",
       "    }\r\n",
       "\r\n",
       "    if (Array.isArray(probingAddresses)) {\r\n",
       "        for (let i = 0; i < probingAddresses.length; i++) {\r\n",
       "\r\n",
       "            let rootUrl = probingAddresses[i];\r\n",
       "\r\n",
       "            if (!rootUrl.endsWith('/')) {\r\n",
       "                rootUrl = `${rootUrl}/`;\r\n",
       "            }\r\n",
       "\r\n",
       "            try {\r\n",
       "                let response = await timeout(1000, fetch(`${rootUrl}discovery`, {\r\n",
       "                    method: 'POST',\r\n",
       "                    cache: 'no-cache',\r\n",
       "                    mode: 'cors',\r\n",
       "                    timeout: 1000,\r\n",
       "                    headers: {\r\n",
       "                        'Content-Type': 'text/plain'\r\n",
       "                    },\r\n",
       "                    body: probingAddresses[i]\r\n",
       "                }));\r\n",
       "\r\n",
       "                if (response.status == 200) {\r\n",
       "                    return rootUrl;\r\n",
       "                }\r\n",
       "            }\r\n",
       "            catch (e) { }\r\n",
       "        }\r\n",
       "    }\r\n",
       "}\r\n",
       "\r\n",
       "function loadDotnetInteractiveApi() {\r\n",
       "    probeAddresses([\"http://172.27.48.1:1000/\", \"http://192.168.5.198:1000/\", \"http://127.0.0.1:1000/\"])\r\n",
       "        .then((root) => {\r\n",
       "            // use probing to find host url and api resources\r\n",
       "            // load interactive helpers and language services\r\n",
       "            let dotnet_require = require.config({\r\n",
       "                context: '27372.4d2b8e1eb9874e03b5e3ba93de076ce7',\r\n",
       "                paths: {\r\n",
       "                    'dotnet-interactive': `${root}resources`\r\n",
       "                }\r\n",
       "            }) || require;\r\n",
       "            if (!window.dotnet_require) {\r\n",
       "                window.dotnet_require = dotnet_require;\r\n",
       "            }\r\n",
       "        \r\n",
       "            dotnet_require([\r\n",
       "                    'dotnet-interactive/dotnet-interactive'\r\n",
       "                ],\r\n",
       "                function (dotnet) {\r\n",
       "                    dotnet.init(window);\r\n",
       "                },\r\n",
       "                function (error) {\r\n",
       "                    console.log(error);\r\n",
       "                }\r\n",
       "            );\r\n",
       "        })\r\n",
       "        .catch(error => {console.log(error);});\r\n",
       "    }\r\n",
       "    </script>\r\n",
       "</div>"
      ]
     },
     "metadata": {},
     "output_type": "display_data"
    }
   ],
   "source": [
    "# Account login IDs (not credentials) imported from a variables file\n",
    "## Source: https://docs.microsoft.com/en-us/learn/modules/run-parallel-tasks-in-azure-batch-with-the-azure-cl\n",
    "\n",
    ". ./AZ_Sub_Details_1.ps1\n",
    "\n",
    "$tenantID = $TENANTID_DEF\n",
    "$subscriptionID = $SUBSCRIPTIONID_DEF\n",
    "\n",
    "# Create the Variables\n",
    "$location = \"EastUS2\"\n",
    "$resourceGroupName = \"rg-npde2bat001\"\n",
    "$batch_Account = \"batnpde2trn001\"\n",
    "$batch_Pool = \"batchpool1\"\n",
    "$batch_vm_Size = \"Standard_A1_v2\"\n",
    "$batch_vm_Sku = \n",
    "$batch_as = 3\n",
    "\n",
    "$taskId = \"mytask\"\n",
    "$jobId = \"myjob\"\n",
    "$cmdLine = \"/bin/bash -c 'echo \\`$(printenv | grep \\AZ_BATCH_TASK_ID) processed by; echo \\`$(printenv | grep \\AZ_BATCH_NODE_ID)'\"\n"
   ]
  },
  {
   "cell_type": "code",
   "execution_count": 2,
   "metadata": {},
   "outputs": [
    {
     "name": "stdout",
     "output_type": "stream",
     "text": [
      "\n",
      "Account               SubscriptionName      TenantId                             Environment\n",
      "-------               ----------------      --------                             -----------\n",
      "matperr@microsoft.com MWP_Prod_Subscription 72f988bf-86f1-41af-91ab-2d7cd011db47 AzureCloud\n",
      "\n"
     ]
    }
   ],
   "source": [
    "# Login\n",
    "Connect-AzAccount -Tenant $tenantID -SubscriptionId $subscriptionID"
   ]
  },
  {
   "cell_type": "code",
   "execution_count": null,
   "metadata": {},
   "outputs": [],
   "source": [
    "# If not registered, Register the AZResource provider for batch\n",
    "## Register-AzResourceProvider -ProviderNamespace Microsoft.Batch"
   ]
  },
  {
   "cell_type": "code",
   "execution_count": 3,
   "metadata": {},
   "outputs": [
    {
     "name": "stdout",
     "output_type": "stream",
     "text": [
      "\n",
      "ResourceGroupName : rg-npde2bat001\n",
      "Location          : eastus2\n",
      "ProvisioningState : Succeeded\n",
      "Tags              : \n",
      "ResourceId        : /subscriptions/b67872ff-3d41-4494-a27c-a8ef9c3b0d00/resourceGroups/rg-npde2bat0\n",
      "                    01\n",
      "\n",
      "\n",
      "Id                                    : /subscriptions/b67872ff-3d41-4494-a27c-a8ef9c3b0d00/resourc\n",
      "                                        eGroups/rg-npde2bat001/providers/Microsoft.Batch/batchAccou\n",
      "                                        nts/batnpde2trn001\n",
      "AccountEndpoint                       : batnpde2trn001.eastus2.batch.azure.com\n",
      "PrimaryAccountKey                     : \n",
      "SecondaryAccountKey                   : \n",
      "AccountName                           : batnpde2trn001\n",
      "Location                              : eastus2\n",
      "ResourceGroupName                     : rg-npde2bat001\n",
      "Subscription                          : b67872ff-3d41-4494-a27c-a8ef9c3b0d00\n",
      "State                                 : Succeeded\n",
      "TaskTenantUrl                         : https://batnpde2trn001.eastus2.batch.azure.com\n",
      "Tags                                  : \n",
      "TagsTable                             : \n",
      "DedicatedCoreQuota                    : 700\n",
      "LowPriorityCoreQuota                  : 500\n",
      "DedicatedCoreQuotaPerVMFamilyEnforced : True\n",
      "DedicatedCoreQuotaPerVMFamily         : {standardEIv3Family, standardFSFamily, Standard NCASv3_T4 \n",
      "                                        Family, standardDv3Family…}\n",
      "PoolQuota                             : 100\n",
      "ActiveJobAndJobScheduleQuota          : 300\n",
      "AutoStorageProperties                 : \n",
      "PoolAllocationMode                    : BatchService\n",
      "KeyVaultReference                     : \n",
      "PrivateEndpointConnections            : \n",
      "PublicNetworkAccess                   : Enabled\n",
      "Identity                              : Microsoft.Azure.Management.Batch.Models.BatchAccountIdentit\n",
      "                                        y\n",
      "KeyInUse                              : Primary\n",
      "\n",
      "\n"
     ]
    }
   ],
   "source": [
    "# Create the resource group and batch account\n",
    "New-AzResourceGroup -Name $resourceGroupName -Location $location\n",
    "New-AzBatchAccount -AccountName $batch_account -ResourceGroupName $resourceGroupName -Location $location"
   ]
  },
  {
   "cell_type": "code",
   "execution_count": 4,
   "metadata": {},
   "outputs": [
    {
     "name": "stdout",
     "output_type": "stream",
     "text": [
      "\u001b[93mWARNING: Upcoming breaking changes in the cmdlet 'Get-AzBatchAccountKey' :\n",
      "Get-AzBatchAccountKeys alias will be removed in an upcoming breaking change release\n",
      "- The change is expected to take effect from the version : '2.0.0'\n",
      "Note : Go to https://aka.ms/azps-changewarnings for steps to suppress this breaking change warning, and other information on breaking changes in Azure PowerShell.\u001b[0m\n"
     ]
    }
   ],
   "source": [
    "# Create an Azure batch key for Key based on Authentication\n",
    "##New-AzBatchAccountKey -AccountName $batch_Account -KeyType Primary # or Secondary\n",
    "\n",
    "#Get the Azure Batch Keys\n",
    "##$Account = Get-AzBatchAccountKeys –AccountName $batch_Account\n",
    "\n",
    "##$Account.PrimaryAccountKey\n",
    "##$Account.SecondaryAccountKey\n",
    "\n",
    "# Authentication via SharedKey\n",
    "$context = Get-AzBatchAccountKey -AccountName $batch_Account\n",
    "\n",
    "# OR AAD Authentication\n",
    "#$context - Get-AzBatchAcount -AccountName $batch_Account\n"
   ]
  },
  {
   "cell_type": "code",
   "execution_count": 5,
   "metadata": {},
   "outputs": [],
   "source": [
    "# Create the Batch Pool\n",
    "## Create a Windows Batch Pool\n",
    "#$imageReference = New-Object -TypeName \"Microsoft.Azure.Commands.Batch.Models.PSImageReference\" -ArgumentList @(\"WindowsServer\", \"MicrosoftWindowsServer\", \"2016-Datacenter\", \"*\"\n",
    "#$configuration = New-Object -TypeName \"Microsoft.Azure.Commands.Batch.Models.PSVirtualMachineConfiguration\" -ArgumentList @($imageReference, \"batch.node.windows amd64\")\n",
    "\n",
    "## Create an Ubuntu Batch Pool\n",
    "$imageReference = New-Object -TypeName \"Microsoft.Azure.Commands.Batch.Models.PSImageReference\" -ArgumentList @(\"UbuntuServer\",\"Canonical\",\"18.04-LTS\")\n",
    "$configuration = New-Object -TypeName \"Microsoft.Azure.Commands.Batch.Models.PSVirtualMachineConfiguration\" -ArgumentList @($imageReference, \"batch.node.ubuntu 18.04\")\n",
    "\n",
    "New-AzBatchPool -Id $batch_Pool -VirtualMachineSize $batch_vm_Size -TargetDedicatedComputeNodes $batch_as -VirtualMachineConfiguration $configuration -BatchContext $context"
   ]
  },
  {
   "cell_type": "code",
   "execution_count": 7,
   "metadata": {},
   "outputs": [
    {
     "name": "stdout",
     "output_type": "stream",
     "text": [
      "Steady\n"
     ]
    }
   ],
   "source": [
    "# Get allocation Status\n",
    "$allocState = Get-AzBatchPool -Id $batch_pool -BatchContext $Context\n",
    "$allocState.AllocationState"
   ]
  },
  {
   "cell_type": "code",
   "execution_count": 12,
   "metadata": {},
   "outputs": [
    {
     "name": "stdout",
     "output_type": "stream",
     "text": [
      "\n",
      "AutoPoolSpecification PoolId\n",
      "--------------------- ------\n",
      "                      \n",
      "\u001b[91mNew-AzBatchTask: \n",
      "\u001b[96mLine |\n",
      "\u001b[96m  11 | \u001b[0m    \u001b[96mNew-AzBatchTask -Id \"$taskid$ctr\" -JobId $jobId -CommandLine $cmdL\u001b[0m …\n",
      "\u001b[96m     | \u001b[91m    ~~~~~~~~~~~~~~~~~~~~~~~~~~~~~~~~~~~~~~~~~~~~~~~~~~~~~~~~~~~~~~~~~~\n",
      "\u001b[91m\u001b[96m     | \u001b[91mHttpStatusCode: Conflict\n",
      "\u001b[91mStatusMessage: The specified task already exists.\u001b[0m\n",
      "\u001b[91mClientRequestId: \u001b[0m\n",
      "\u001b[91mRequestId: 20311dcd-4ec1-4bd6-9039-c8d5680cede0\u001b[0m\n",
      "\u001b[91mError code: TaskExists\u001b[0m\n",
      "\u001b[91mMessage: The specified task already exists.\u001b[0m\n",
      "\u001b[91mRequestId:20311dcd-4ec1-4bd6-9039-c8d5680cede0\u001b[0m\n",
      "\u001b[91mTime:2021-02-23T16:01:51.9368288Z\u001b[0m\n",
      "\u001b[0m\n",
      "\u001b[91mNew-AzBatchTask: \n",
      "\u001b[96mLine |\n",
      "\u001b[96m  11 | \u001b[0m    \u001b[96mNew-AzBatchTask -Id \"$taskid$ctr\" -JobId $jobId -CommandLine $cmdL\u001b[0m …\n",
      "\u001b[96m     | \u001b[91m    ~~~~~~~~~~~~~~~~~~~~~~~~~~~~~~~~~~~~~~~~~~~~~~~~~~~~~~~~~~~~~~~~~~\n",
      "\u001b[91m\u001b[96m     | \u001b[91mHttpStatusCode: Conflict\n",
      "\u001b[91mStatusMessage: The specified task already exists.\u001b[0m\n",
      "\u001b[91mClientRequestId: \u001b[0m\n",
      "\u001b[91mRequestId: e563c665-b333-4e47-93c7-0875828a53dd\u001b[0m\n",
      "\u001b[91mError code: TaskExists\u001b[0m\n",
      "\u001b[91mMessage: The specified task already exists.\u001b[0m\n",
      "\u001b[91mRequestId:e563c665-b333-4e47-93c7-0875828a53dd\u001b[0m\n",
      "\u001b[91mTime:2021-02-23T16:01:52.8793395Z\u001b[0m\n",
      "\u001b[0m\n",
      "\u001b[91mNew-AzBatchTask: \n",
      "\u001b[96mLine |\n",
      "\u001b[96m  11 | \u001b[0m    \u001b[96mNew-AzBatchTask -Id \"$taskid$ctr\" -JobId $jobId -CommandLine $cmdL\u001b[0m …\n",
      "\u001b[96m     | \u001b[91m    ~~~~~~~~~~~~~~~~~~~~~~~~~~~~~~~~~~~~~~~~~~~~~~~~~~~~~~~~~~~~~~~~~~\n",
      "\u001b[91m\u001b[96m     | \u001b[91mHttpStatusCode: Conflict\n",
      "\u001b[91mStatusMessage: The specified task already exists.\u001b[0m\n",
      "\u001b[91mClientRequestId: \u001b[0m\n",
      "\u001b[91mRequestId: a04f9f17-5efc-4b27-8191-fde1f53ea6d8\u001b[0m\n",
      "\u001b[91mError code: TaskExists\u001b[0m\n",
      "\u001b[91mMessage: The specified task already exists.\u001b[0m\n",
      "\u001b[91mRequestId:a04f9f17-5efc-4b27-8191-fde1f53ea6d8\u001b[0m\n",
      "\u001b[91mTime:2021-02-23T16:01:53.4873360Z\u001b[0m\n",
      "\u001b[0m\n",
      "\n"
     ]
    }
   ],
   "source": [
    "# Create a batch job\n",
    "\n",
    "$PoolInformation = New-Object -TypeName \"Microsoft.Azure.Commands.Batch.Models.PSPoolInformation\"\n",
    "$PoolInformation\n",
    "$PoolInformation.PoolId = $batch_pool\n",
    "\n",
    "New-AzBatchJob -Id $jobId -PoolInformation $PoolInformation -BatchContext $Context\n",
    "\n",
    "for ($ctr = 1; $ctr -le 3; $ctr++)\n",
    "{\n",
    "   New-AzBatchTask -Id \"$taskid$ctr\" -JobId $jobId -CommandLine $cmdLine -BatchContext $context\n",
    "}"
   ]
  },
  {
   "cell_type": "code",
   "execution_count": null,
   "metadata": {},
   "outputs": [],
   "source": [
    "# Delete the Batch Job(s)\n",
    "#Remove-AzBatchJob -id $jobId -BatchContext $context"
   ]
  },
  {
   "cell_type": "code",
   "execution_count": null,
   "metadata": {},
   "outputs": [],
   "source": [
    "# Delete Azure Batch Account\n",
    "##Remove-AzBatchAccount -AccountName $batch_Account"
   ]
  }
 ],
 "metadata": {
  "kernelspec": {
   "display_name": ".NET (PowerShell)",
   "language": "PowerShell",
   "name": ".net-powershell"
  },
  "language_info": {
   "file_extension": ".ps1",
   "mimetype": "text/x-powershell",
   "name": "PowerShell",
   "pygments_lexer": "powershell",
   "version": "7.0"
  }
 },
 "nbformat": 4,
 "nbformat_minor": 4
}
