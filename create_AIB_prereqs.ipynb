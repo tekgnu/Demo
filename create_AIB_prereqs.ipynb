{
 "cells": [
  {
   "cell_type": "code",
   "execution_count": null,
   "metadata": {},
   "outputs": [],
   "source": [
    "connect-azaccount\n"
   ]
  },
  {
   "cell_type": "code",
   "execution_count": null,
   "metadata": {},
   "outputs": [],
   "source": []
  },
  {
   "cell_type": "code",
   "execution_count": 4,
   "metadata": {},
   "outputs": [
    {
     "name": "stdout",
     "output_type": "stream",
     "text": [
      "\u001b[93mWARNING: Unable to acquire token for tenant 'cc914548-7923-4586-ad62-f99cebba3dac'\u001b[0m\n",
      "\n",
      "Name                                     Account        SubscriptionNa Environment    TenantId\n",
      "                                                        me\n",
      "----                                     -------        -------------- -----------    --------\n",
      "MWP_Prod_Subscription (b67872ff-3d41-44… matperr@micro… MWP_Prod_Subs… AzureCloud     72f988bf-86f…\n",
      "\n"
     ]
    }
   ],
   "source": [
    "$context = Get-AzSubscription -SubscriptionId b67872ff-3d41-4494-a27c-a8ef9c3b0d00\n",
    "Set-AzContext $context"
   ]
  },
  {
   "cell_type": "code",
   "execution_count": 5,
   "metadata": {},
   "outputs": [
    {
     "name": "stdout",
     "output_type": "stream",
     "text": [
      "\n",
      "FeatureName ProviderName      RegistrationState\n",
      "----------- ------------      -----------------\n",
      "AllowNFSV3  Microsoft.Storage Registering\n",
      "PremiumHns  Microsoft.Storage Registering\n",
      "                              Registered\n",
      "\n"
     ]
    }
   ],
   "source": [
    "Register-AzProviderFeature -FeatureName AllowNFSV3 -ProviderNamespace Microsoft.Storage\n",
    "Register-AzProviderFeature -FeatureName PremiumHns -ProviderNamespace Microsoft.Storage\n",
    "Register-AzResourceProvider -ProviderNamespace Microsoft.Storage"
   ]
  },
  {
   "cell_type": "code",
   "execution_count": 7,
   "metadata": {},
   "outputs": [
    {
     "name": "stdout",
     "output_type": "stream",
     "text": [
      "\n",
      "FeatureName ProviderName      RegistrationState\n",
      "----------- ------------      -----------------\n",
      "AllowNFSV3  Microsoft.Storage Registered\n",
      "PremiumHns  Microsoft.Storage Registered\n",
      "\n"
     ]
    }
   ],
   "source": [
    "Get-AzProviderFeature -ProviderNamespace Microsoft.Storage -FeatureName AllowNFSV3\n",
    "Get-AzProviderFeature -ProviderNamespace Microsoft.Storage -FeatureName PremiumHns"
   ]
  },
  {
   "cell_type": "code",
   "execution_count": null,
   "metadata": {},
   "outputs": [],
   "source": []
  }
 ],
 "metadata": {
  "kernelspec": {
   "display_name": ".NET (PowerShell)",
   "language": "PowerShell",
   "name": ".net-powershell"
  },
  "language_info": {
   "file_extension": ".ps1",
   "mimetype": "text/x-powershell",
   "name": "PowerShell",
   "pygments_lexer": "powershell",
   "version": "7.0"
  }
 },
 "nbformat": 4,
 "nbformat_minor": 4
}
