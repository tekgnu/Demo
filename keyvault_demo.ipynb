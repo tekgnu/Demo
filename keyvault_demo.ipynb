{
 "cells": [
  {
   "cell_type": "code",
   "execution_count": null,
   "metadata": {},
   "outputs": [],
   "source": [
    "##Connect to Azure MSDN Account"
   ]
  },
  {
   "cell_type": "code",
   "execution_count": null,
   "metadata": {},
   "outputs": [],
   "source": [
    "### Set Tenant, Subscription, and preferred location\n",
    "$tenantID=\"\"\n",
    "$subscriptionID=\"\"\n",
    "$location=\"\"\n",
    "\n",
    "$resourceGroupName=\"rg-prdsecdemo001\"\n",
    "$keyVaultName=\"kvt-prdmwpdemo002\"\n",
    "$servPrincipalName=\"keyVaultdemo001\"\n",
    "\n",
    "#Password is intentionally visible\n",
    "$keySecretforVaultTesting=\"Access\"\n",
    "$superSercretPasswordforVaultTesting=\"Diabolical_Safe_Password\"\n",
    "Write-Output \"Variables: $tenantID $subscriptionID $location $resourceGroupName $keyVaultName $servPrincipalName $keySecretforVaultTesting $superSercretPasswordforVaultTesting\""
   ]
  },
  {
   "cell_type": "code",
   "execution_count": null,
   "metadata": {},
   "outputs": [],
   "source": [
    "Connect-AzAccount -Tenant $tenantID -SubscriptionId $subscriptionID"
   ]
  },
  {
   "cell_type": "code",
   "execution_count": null,
   "metadata": {},
   "outputs": [],
   "source": [
    "## Create Resource Group for the Key Vault\n",
    "New-AzResourceGroup -Name $resourceGroupName -Location $location"
   ]
  },
  {
   "cell_type": "code",
   "execution_count": null,
   "metadata": {},
   "outputs": [],
   "source": [
    "$kvRGID=Get-AzResourceGroup -name $resourceGroupName\n",
    "$srvPrin = New-AzADServicePrincipal `\n",
    "    -DisplayName $servPrincipalName `\n",
    "    -Role \"Contributor\" `\n",
    "    -Scope $kvRGID.ResourceId\n",
    "\n",
    "## Get the Service Principal and Password\n",
    "## Service Principal's GUID\n",
    "$servID = $srvPrin.ServicePrincipalNames[0]\n",
    "$BSTR = [System.Runtime.InteropServices.Marshal]::SecureStringToBSTR($srvPrin.Secret)\n",
    "$unSecret = [System.Runtime.InteropServices.Marshal]::PtrToStringAuto($BSTR)\n",
    "$superSecret = $unSecret | ConvertTo-SecureString -AsPlainText -Force\n",
    "\n",
    "## Create the Credential \n",
    "$credential = [PSCredential]::New($servID,$superSecret)"
   ]
  },
  {
   "cell_type": "code",
   "execution_count": null,
   "metadata": {},
   "outputs": [],
   "source": [
    "Connect-AzAccount -ServicePrincipal -Credential $credential -Tenant $tenantID"
   ]
  },
  {
   "cell_type": "code",
   "execution_count": null,
   "metadata": {},
   "outputs": [],
   "source": [
    "## Create the KeyVault\n",
    "New-AzKeyVault -VaultName $keyVaultName -ResourceGroupName $resourceGroupName -Location $location -Sku 'Standard' `\n",
    "-SoftDeleteRetentionInDays 7"
   ]
  },
  {
   "cell_type": "code",
   "execution_count": null,
   "metadata": {},
   "outputs": [],
   "source": [
    "## Grant the Service Principal the ability to create keys\n",
    "Set-AzKeyVaultAccessPolicy -VaultName $keyVaultName -ServicePrincipalName $servID -PermissionsToSecrets get,set,delete"
   ]
  },
  {
   "cell_type": "code",
   "execution_count": null,
   "metadata": {},
   "outputs": [],
   "source": [
    "## Create the Super Secret Key Value pair as the Service Principal\n",
    "$secretValue = ConvertTo-SecureString $superSercretPasswordforVaultTesting -AsPlainText -Force\n",
    "$newSecret = Set-AzKeyVaultSecret -VaultName $keyVaultName -Name $keySecretforVaultTesting -SecretValue $secretValue\n",
    "$newSecret.Created.ToLocalTime()"
   ]
  },
  {
   "cell_type": "code",
   "execution_count": null,
   "metadata": {},
   "outputs": [],
   "source": [
    "## Now retrieve our Secret - requires Secure string conversion\n",
    "$secret = Get-AzKeyVaultSecret -VaultName $keyVaultName -Name $keySecretforVaultTesting\n",
    "$ssPtr = [System.Runtime.InteropServices.Marshal]::SecureStringToBSTR($secret.SecretValue)\n",
    "try {\n",
    "   $secretValueText = [System.Runtime.InteropServices.Marshal]::PtrToStringBSTR($ssPtr)\n",
    "} finally {\n",
    "   [System.Runtime.InteropServices.Marshal]::ZeroFreeBSTR($ssPtr)\n",
    "}\n",
    "Write-Output \"Key: $keySecretforVaultTesting Value: $secretValueText\""
   ]
  },
  {
   "cell_type": "code",
   "execution_count": null,
   "metadata": {},
   "outputs": [],
   "source": []
  }
 ],
 "metadata": {
  "kernelspec": {
   "display_name": ".NET (PowerShell)",
   "language": "PowerShell",
   "name": ".net-powershell"
  },
  "language_info": {
   "file_extension": ".ps1",
   "mimetype": "text/x-powershell",
   "name": "PowerShell",
   "pygments_lexer": "powershell",
   "version": "7.0"
  }
 },
 "nbformat": 4,
 "nbformat_minor": 4
}
