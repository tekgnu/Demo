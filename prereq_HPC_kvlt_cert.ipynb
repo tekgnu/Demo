{
 "cells": [
  {
   "cell_type": "code",
   "execution_count": null,
   "metadata": {},
   "outputs": [],
   "source": [
    "##Creates the Keyvault and certificate needed for the HPC deployment\n",
    "# This is my own example!\n",
    "# The more complete source is here - \n",
    "## https://raw.githubusercontent.com/Azure/hpcpack-template/master/Scripts/CreateHpcKeyVaultCertificate.ps1\n"
   ]
  },
  {
   "cell_type": "code",
   "execution_count": 22,
   "metadata": {},
   "outputs": [
    {
     "name": "stdout",
     "output_type": "stream",
     "text": [
      "Variables: 72f988bf-86f1-41af-91ab-2d7cd011db47 b67872ff-3d41-4494-a27c-a8ef9c3b0d00 WestUS2 rg-prdw2hpc001 kvt-prdw2hpc01 keyVltHPC01 HPCNodeCommCert CN=fictal.com\n"
     ]
    }
   ],
   "source": [
    "# Account login IDs (not credentials) imported from a variables file\n",
    "\n",
    ". ./AZ_Sub_Details_1.ps1\n",
    "\n",
    "$tenantID = $TENANTID_DEF\n",
    "$subscriptionID = $SUBSCRIPTIONID_DEF\n",
    "$location=\"WestUS2\"\n",
    "\n",
    "$resourceGroupName=\"rg-prdw2hpc001\"\n",
    "$keyVaultName=\"kvt-prdw2hpc01\"\n",
    "$servPrincipalName=\"keyVltHPC01\"\n",
    "\n",
    "$certname = \"HPCNodeCommCert\"\n",
    "$certSubName = \"CN=fictal.com\"\n",
    "\n",
    "\n",
    "Write-Output \"Variables: $tenantID $subscriptionID $location $resourceGroupName $keyVaultName $servPrincipalName $certname $certSubName\""
   ]
  },
  {
   "cell_type": "code",
   "execution_count": 23,
   "metadata": {},
   "outputs": [
    {
     "name": "stdout",
     "output_type": "stream",
     "text": [
      "\n",
      "Account               SubscriptionName      TenantId                             Environment\n",
      "-------               ----------------      --------                             -----------\n",
      "matperr@microsoft.com MWP_Prod_Subscription 72f988bf-86f1-41af-91ab-2d7cd011db47 AzureCloud\n",
      "\n"
     ]
    }
   ],
   "source": [
    "Connect-AzAccount -Tenant $tenantID -SubscriptionId $subscriptionID"
   ]
  },
  {
   "cell_type": "code",
   "execution_count": 4,
   "metadata": {},
   "outputs": [
    {
     "name": "stdout",
     "output_type": "stream",
     "text": [
      "\n",
      "ResourceGroupName : rg-prdw2hpc001\n",
      "Location          : westus2\n",
      "ProvisioningState : Succeeded\n",
      "Tags              : \n",
      "ResourceId        : /subscriptions/b67872ff-3d41-4494-a27c-a8ef9c3b0d00/resourceGroups/rg-prdw2hpc0\n",
      "                    01\n",
      "\n",
      "\n"
     ]
    }
   ],
   "source": [
    "## Create Resource Group for the Key Vault\n",
    "New-AzResourceGroup -Name $resourceGroupName -Location $location"
   ]
  },
  {
   "cell_type": "code",
   "execution_count": 21,
   "metadata": {},
   "outputs": [
    {
     "name": "stdout",
     "output_type": "stream",
     "text": [
      "\n",
      "Vault Name                          : kvt-prdw2hpc01\n",
      "Resource Group Name                 : rg-prdw2hpc001\n",
      "Location                            : WestUS2\n",
      "Resource ID                         : /subscriptions/b67872ff-3d41-4494-a27c-a8ef9c3b0d00/resourceG\n",
      "                                      roups/rg-prdw2hpc001/providers/Microsoft.KeyVault/vaults/kvt-\n",
      "                                      prdw2hpc01\n",
      "Vault URI                           : https://kvt-prdw2hpc01.vault.azure.net/\n",
      "Tenant ID                           : 72f988bf-86f1-41af-91ab-2d7cd011db47\n",
      "SKU                                 : Standard\n",
      "Enabled For Deployment?             : True\n",
      "Enabled For Template Deployment?    : True\n",
      "Enabled For Disk Encryption?        : True\n",
      "Enabled For RBAC Authorization?     : True\n",
      "Soft Delete Enabled?                : True\n",
      "Enabled Purge Protection?           : \n",
      "Soft Delete Retention Period (days) : 90\n",
      "Enabled Purge Protection?           : \n",
      "Access Policies                     : \n",
      "                                      Tenant ID                                  : \n",
      "                                      72f988bf-86f1-41af-91ab-2d7cd011db47\n",
      "                                      Object ID                                  : \n",
      "                                      febfd3f2-fa73-4570-a80f-3a181e371eb2\n",
      "                                      Application ID                             : \n",
      "                                      Display Name                               : Matthew Perry \n",
      "                                      (matperr@microsoft.com)\n",
      "                                      Permissions to Keys                        : get, create, \n",
      "                                      delete, list, update, import, backup, restore, recover\n",
      "                                      Permissions to Secrets                     : get, list, set, \n",
      "                                      delete, backup, restore, recover\n",
      "                                      Permissions to Certificates                : get, delete, \n",
      "                                      list, create, import, update, deleteissuers, getissuers, \n",
      "                                      listissuers, managecontacts, manageissuers, setissuers, \n",
      "                                      recover, backup, restore\n",
      "                                      Permissions to (Key Vault Managed) Storage : delete, \n",
      "                                      deletesas, get, getsas, list, listsas, regeneratekey, set, \n",
      "                                      setsas, update, recover, backup, restore\n",
      "                                      \n",
      "                                      \n",
      "Network Rule Set                    : \n",
      "                                      Default Action                             : Allow\n",
      "                                      Bypass                                     : AzureServices\n",
      "                                      IP Rules                                   : \n",
      "                                      Virtual Network Rules                      : \n",
      "                                      \n",
      "Tags                                : \n",
      "\n",
      "\u001b[91m-EnablePurgeProtection: \n",
      "\u001b[96mLine |\n",
      "\u001b[96m   5 | \u001b[0m \u001b[96m-EnablePurgeProtection\u001b[0m `\n",
      "\u001b[96m     | \u001b[91m ~~~~~~~~~~~~~~~~~~~~~~\n",
      "\u001b[91m\u001b[96m     | \u001b[91mThe term '-EnablePurgeProtection' is not recognized as the name of a cmdlet, function, script file, or operable program.\n",
      "Check the spelling of the name, or if a path was included, verify that the path is correct and try again.\u001b[0m\n",
      "\n"
     ]
    }
   ],
   "source": [
    "## Create the KeyVault\n",
    "# For testing, set Soft delete retention\n",
    "New-AzKeyVault -VaultName $keyVaultName -ResourceGroupName $resourceGroupName -Location $location -Sku 'Standard' `\n",
    "    -EnabledForDeployment -EnabledForTemplateDeployment   ` \n",
    "    -SoftDeleteRetentionInDays 7\n",
    "    # Disabled -EnableRbacAuthorization due to the added step to app perms to add key\n",
    "    # Disabled -EnabledForDiskEncryption not needed for HPC\n",
    "\n",
    "## Need to enable Azure Services to use the vault\n",
    "#Add-AzKeyVaultNetworkRule -VaultName $keyVaultName -VirtualNetworkResourceId $myNetworkResId -PassThru #-IpAddressRange \"10.0.1.0/24\""
   ]
  },
  {
   "cell_type": "code",
   "execution_count": 28,
   "metadata": {},
   "outputs": [
    {
     "name": "stdout",
     "output_type": "stream",
     "text": [
      "\u001b[91mAdd-AzKeyVaultCertificate: \n",
      "\u001b[96mLine |\n",
      "\u001b[96m   3 | \u001b[0m \u001b[96mAdd-AzKeyVaultCertificate -VaultName $keyVaultName -Name \"$certname\" \u001b[0m …\n",
      "\u001b[96m     | \u001b[91m ~~~~~~~~~~~~~~~~~~~~~~~~~~~~~~~~~~~~~~~~~~~~~~~~~~~~~~~~~~~~~~~~~~~~~\n",
      "\u001b[91m\u001b[96m     | \u001b[91mOperation returned an invalid status code 'Conflict'\u001b[0m\n"
     ]
    }
   ],
   "source": [
    "# Now create the Self-signed Certificate into keyvault\n",
    "$Policy = New-AzKeyVaultCertificatePolicy -SecretContentType \"application/x-pkcs12\" -SubjectName \"$certSubName\" -IssuerName \"Self\" -ValidityInMonths 60 -ReuseKeyOnRenewal -KeyUsage DigitalSignature, KeyAgreement, KeyEncipherment -Ekus \"1.3.6.1.5.5.7.3.1\", \"1.3.6.1.5.5.7.3.2\"\n",
    "Add-AzKeyVaultCertificate -VaultName $keyVaultName -Name \"$certname\" -CertificatePolicy $Policy"
   ]
  },
  {
   "cell_type": "code",
   "execution_count": 27,
   "metadata": {},
   "outputs": [
    {
     "name": "stdout",
     "output_type": "stream",
     "text": [
      "\u001b[92mCertificate information\u001b[0m\n",
      "Vault Name            : kvt-prdw2hpc01\n",
      "Vault Resource Group  : rg-prdw2hpc001\n",
      "Certificate URL       : https://kvt-prdw2hpc01.vault.azure.net:443/secrets/HPCNodeCommCert/ef3988ffc0dd44dba16bdf3fd82c0dd1\n",
      "Certf Thumbprint      : B163BCA1D8440325262F19B834231C7412A0C985\n"
     ]
    }
   ],
   "source": [
    "# Get Certificate URL and Thumbprint\n",
    "$keyVaultCert = Get-AzKeyVaultCertificate -Vaultname $keyVaultName -Name $certname\n",
    "\n",
    "$certURL = $keyVaultCert.SecretId\n",
    "$certThumb = $keyVaultCert.Thumbprint\n",
    "Write-Host \"Certificate information\" -ForegroundColor Green\n",
    "\"Vault Name            : $keyVaultName\"\n",
    "\"Vault Resource Group  : $resourceGroupName\"\n",
    "\"Certificate URL       : $certURL\"\n",
    "\"Certf Thumbprint      : $certThumb\""
   ]
  },
  {
   "cell_type": "code",
   "execution_count": null,
   "metadata": {},
   "outputs": [],
   "source": [
    "######## WARNING #######\n",
    "# Remove and then purge the keyvault\n",
    "#####\n",
    "Get-AzKeyVault -VaultName $keyVaultName\n",
    "Remove-AzKeyVault -VaultName $keyVaultName \n",
    "Remove-AzKeyVault -VaultName $keyVaultName -InRemovedState -Location $location"
   ]
  }
 ],
 "metadata": {
  "kernelspec": {
   "display_name": ".NET (PowerShell)",
   "language": "PowerShell",
   "name": ".net-powershell"
  },
  "language_info": {
   "file_extension": ".ps1",
   "mimetype": "text/x-powershell",
   "name": "PowerShell",
   "pygments_lexer": "powershell",
   "version": "7.0"
  }
 },
 "nbformat": 4,
 "nbformat_minor": 4
}
